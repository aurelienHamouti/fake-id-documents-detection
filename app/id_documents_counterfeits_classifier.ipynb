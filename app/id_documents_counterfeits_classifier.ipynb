{
 "cells": [
  {
   "cell_type": "code",
   "execution_count": 29,
   "id": "1d390b7c",
   "metadata": {},
   "outputs": [],
   "source": [
    "from torchvision import transforms as T\n",
    "import matplotlib.pyplot as plt\n",
    "from torchvision.datasets import ImageFolder\n",
    "import torch\n",
    "import torchvision"
   ]
  },
  {
   "cell_type": "code",
   "execution_count": 30,
   "id": "1360cf69",
   "metadata": {},
   "outputs": [
    {
     "name": "stdout",
     "output_type": "stream",
     "text": [
      "{'authentics': 0, 'counterfeits': 1}\n",
      "[('data/id-documents-zone-1/authentics\\\\Carte 2 - Authentique délivrée par consulat - Carte ID FR - Zone 1.png', 0), (\"data/id-documents-zone-1/authentics\\\\Carte 3 - Authentique - Carte ID FR - Delivre 01.2017 - Prefecture du Val d'oise (95) - Zone 1.png\", 0), ('data/id-documents-zone-1/authentics\\\\Carte 4 - Authentique - Carte ID FR - Delivre 09.2009 - Prefecture de Thonon les bains (74) - Zone 1.png', 0), ('data/id-documents-zone-1/authentics\\\\Carte 5 - Authentique - Carte ID FR - Delivre 05.2019 - Prefecture de la Haute Savoie (74) - Zone 1.png', 0), (\"data/id-documents-zone-1/authentics\\\\Carte 6 - Authentique - Carte ID FR - Delivre 11.2016 - Prefecture de l'Ain (01) - Zone 1.png\", 0), ('data/id-documents-zone-1/authentics\\\\Carte 7 - Authentique - Carte ID FR - Delivre 03.2019- Prefecture de la Haute Savoie (74) - Zone 1 (après nouvelle calibration).png', 0), ('data/id-documents-zone-1/authentics\\\\Carte 8 - Authentique - Carte ID FR - Delivre 05.2006- Sous Prefecture de Lunéville (54)  - Zone 1  (support plastique).png', 0), ('data/id-documents-zone-1/authentics\\\\Cas BEL 10-27794 - Document utilisé abusivement - Carte ID FR - Zone 1.png', 0), ('data/id-documents-zone-1/authentics\\\\Cas FEM 11-28370 - Document utilisé abusivement - Carte ID FR - Zone 1.png', 0), ('data/id-documents-zone-1/authentics\\\\Cas PAJ 15-36962 - Document obtenu frauduleusement - Carte ID FR - Zone 1.png', 0), ('data/id-documents-zone-1/counterfeits\\\\Cas BAA 1942511 - Contrefaçon (Faux intégrale) - Carte ID FR - Zone 1.png', 1), ('data/id-documents-zone-1/counterfeits\\\\Cas FEM 1129565 - Contrefaçon (Faux intégral) - Carte ID FR - Zone 1.png', 1), ('data/id-documents-zone-1/counterfeits\\\\Cas FEM 15-36544 - Contrefaçon (Faux intégral) - Carte ID FR - Zone 1.png', 1), ('data/id-documents-zone-1/counterfeits\\\\Cas FEM 20-42614 - Contrefaçon (Faux intégral) - Carte ID FR - Zone 1 (Faux flagrant).png', 1), ('data/id-documents-zone-1/counterfeits\\\\Cas MEE 16-37515 - Contrefaçon (Faux intégral) - Carte ID FR - Zone 1.png', 1), ('data/id-documents-zone-1/counterfeits\\\\Cas MEE 19-41417 - Contrefaçon (Faux intégral) - Carte ID FR - Zone 1.png', 1), ('data/id-documents-zone-1/counterfeits\\\\Cas SNA 10-27859 - Contrefaçon - Carte ID FR - Zone 1.png', 1), ('data/id-documents-zone-1/counterfeits\\\\Cas SPA 2008-23363 - Contrefaçon - Carte ID FR - Zone 1.png', 1)]\n"
     ]
    },
    {
     "data": {
      "image/png": "[encoded data removed]",
      "text/plain": [
       "<Figure size 432x288 with 1 Axes>"
      ]
     },
     "metadata": {
      "needs_background": "light"
     },
     "output_type": "display_data"
    }
   ],
   "source": [
    "dataset = ImageFolder('data/id-documents-zone-1/')\n",
    "\n",
    "#The picture in cat folder corresponds to label 0 and dog corresponds to 1\n",
    "print(dataset.class_to_idx)\n",
    "\n",
    "#Paths of all pictures and corresponding labels\n",
    "print(dataset.imgs)\n",
    "\n",
    "#There is no transform, so the PIL image object is returned\n",
    "#Print (dataset [0] [1]) # the first dimension is the number of images, the second dimension is 1, and label is returned\n",
    "#Print (dataset [0] [0]) # is 0 and returns picture data\n",
    "plt.imshow(dataset[0][0])\n",
    "plt.axis('off')\n",
    "plt.show()"
   ]
  },
  {
   "cell_type": "code",
   "execution_count": 259,
   "id": "4fb9a902",
   "metadata": {},
   "outputs": [
    {
     "data": {
      "image/png": "[encoded data removed]",
      "text/plain": [
       "<Figure size 432x288 with 1 Axes>"
      ]
     },
     "metadata": {
      "needs_background": "light"
     },
     "output_type": "display_data"
    }
   ],
   "source": [
    "normalize = T.Normalize(mean=[0.4, 0.4, 0.4], std=[0.2, 0.2, 0.2])\n",
    "transform = T.Compose([\n",
    "     T.Resize(224),\n",
    "     T.RandomHorizontalFlip(),\n",
    "     T.ToTensor(),\n",
    "     normalize,\n",
    "])\n",
    "dataset = ImageFolder('data/id-documents-zone-1/', transform=transform)\n",
    "\n",
    "batch_size = 2\n",
    "trainloader = torch.utils.data.DataLoader(dataset, batch_size=batch_size,\n",
    "                                          shuffle=True, num_workers=2)\n",
    "testloader = torch.utils.data.DataLoader(dataset, batch_size=batch_size,\n",
    "                                          shuffle=False, num_workers=2)\n",
    "\n",
    "#In deep learning, the picture data is generally saved as cxhxw, that is, the number of channels x the picture height x the picture width\n",
    "#print(dataset[0][0].size())\n",
    "\n",
    "to_img = T.ToPILImage()\n",
    "#0.2 and 0.4 are approximations of the standard deviation and mean\n",
    "a=to_img(dataset[0][0]*0.2+0.4)\n",
    "plt.imshow(a)\n",
    "plt.axis('off')\n",
    "plt.show()"
   ]
  },
  {
   "cell_type": "code",
   "execution_count": 260,
   "id": "5f9649a5",
   "metadata": {},
   "outputs": [],
   "source": [
    "# Define a Convolutional Neural Network, configuration, parametres\n",
    "\n",
    "import torch.nn as nn\n",
    "import torch.nn.functional as F\n",
    "\n",
    "\n",
    "class Net(nn.Module):\n",
    "    def __init__(self):\n",
    "        super().__init__()\n",
    "        self.conv1 = nn.Conv2d(3, 6, 5)\n",
    "        self.pool = nn.MaxPool2d(2, 2)\n",
    "        self.conv2 = nn.Conv2d(6, 16, 5)\n",
    "        self.fc1 = nn.Linear(106000, 120)\n",
    "        self.fc2 = nn.Linear(120, 84)\n",
    "        self.fc3 = nn.Linear(84, 10)\n",
    "\n",
    "    def forward(self, x):\n",
    "        x = self.pool(F.relu(self.conv1(x)))\n",
    "        x = self.pool(F.relu(self.conv2(x)))\n",
    "        x = torch.flatten(x, 1) # flatten all dimensions except batch\n",
    "        x = F.relu(self.fc1(x))\n",
    "        x = F.relu(self.fc2(x))\n",
    "        x = self.fc3(x)\n",
    "        return x\n",
    "\n",
    "\n",
    "net = Net()"
   ]
  },
  {
   "cell_type": "code",
   "execution_count": 261,
   "id": "c1e3989e",
   "metadata": {},
   "outputs": [],
   "source": [
    "# Define a Loss function and optimizer\n",
    "import torch.optim as optim\n",
    "\n",
    "criterion = nn.CrossEntropyLoss()\n",
    "optimizer = optim.SGD(net.parameters(), lr=0.001, momentum=0.9)"
   ]
  },
  {
   "cell_type": "code",
   "execution_count": 262,
   "id": "867926d5",
   "metadata": {},
   "outputs": [
    {
     "name": "stdout",
     "output_type": "stream",
     "text": [
      "Finished Training\n"
     ]
    }
   ],
   "source": [
    "# Network training\n",
    "\n",
    "for epoch in range(2):  # loop over the dataset multiple times\n",
    "\n",
    "    running_loss = 0.0\n",
    "    for i, data in enumerate(trainloader, 0):\n",
    "        # get the inputs; data is a list of [inputs, labels]\n",
    "        inputs, labels = data\n",
    "\n",
    "        # zero the parameter gradients\n",
    "        optimizer.zero_grad()\n",
    "\n",
    "        # forward + backward + optimize\n",
    "        outputs = net(inputs)\n",
    "        loss = criterion(outputs, labels)\n",
    "        loss.backward()\n",
    "        optimizer.step()\n",
    "\n",
    "        # print statistics\n",
    "        running_loss += loss.item()\n",
    "        if i % 2000 == 1999:    # print every 2000 mini-batches\n",
    "            print(f'[{epoch + 1}, {i + 1:5d}] loss: {running_loss / 2000:.3f}')\n",
    "            running_loss = 0.0\n",
    "\n",
    "print('Finished Training')"
   ]
  },
  {
   "cell_type": "code",
   "execution_count": 263,
   "id": "e1a60068",
   "metadata": {},
   "outputs": [],
   "source": [
    "# Save the model\n",
    "PATH = './fake_id_net.pth'\n",
    "torch.save(net.state_dict(), PATH)"
   ]
  },
  {
   "cell_type": "code",
   "execution_count": 296,
   "id": "822a1cf6",
   "metadata": {},
   "outputs": [
    {
     "data": {
      "image/png": "[encoded data removed]",
      "text/plain": [
       "<Figure size 432x288 with 1 Axes>"
      ]
     },
     "metadata": {
      "needs_background": "light"
     },
     "output_type": "display_data"
    },
    {
     "name": "stdout",
     "output_type": "stream",
     "text": [
      "GroundTruth:  authentic\n"
     ]
    }
   ],
   "source": [
    "# Network test\n",
    "\n",
    "dataiter = iter(testloader)\n",
    "images, labels = dataiter.next()\n",
    "\n",
    "\n",
    "# functions to show an image\n",
    "def imshow(images):\n",
    "    #img = img / 0.2+0.4     # unnormalize\n",
    "    to_img = T.ToPILImage()\n",
    "    img=to_img(images*0.2+0.4)\n",
    "    plt.imshow(img)\n",
    "    plt.axis('off')\n",
    "    plt.show()\n",
    "\n",
    "classes = ('authentic', 'counterfeit')\n",
    "\n",
    "# print images\n",
    "for i in range(1):\n",
    "    nextItem = next(dataiter)\n",
    "    #print(nextItem)\n",
    "    imshow(torchvision.utils.make_grid(images[1]))\n",
    "    print('GroundTruth: ', ' '.join(f'{classes[labels[j]]:8s}' for j in range(1)))"
   ]
  },
  {
   "cell_type": "code",
   "execution_count": 298,
   "id": "e7fc2fe2",
   "metadata": {},
   "outputs": [
    {
     "name": "stdout",
     "output_type": "stream",
     "text": [
      "Accuracy of the network on the 3 test images: 55 %\n"
     ]
    }
   ],
   "source": [
    "correct = 0\n",
    "total = 0\n",
    "with torch.no_grad():\n",
    "    for data in testloader:\n",
    "        images, labels = data\n",
    "        outputs = net(images)\n",
    "        _, predicted = torch.max(outputs.data, 1)\n",
    "        total += labels.size(0)\n",
    "        correct += (predicted == labels).sum().item()\n",
    "\n",
    "print('Accuracy of the network on the %d test images: %d %%' % (len(test),\n",
    "    100 * correct / total))"
   ]
  },
  {
   "cell_type": "code",
   "execution_count": null,
   "id": "83790fb8",
   "metadata": {},
   "outputs": [],
   "source": []
  }
 ],
 "metadata": {
  "kernelspec": {
   "display_name": "Python 3 (ipykernel)",
   "language": "python",
   "name": "python3"
  },
  "language_info": {
   "codemirror_mode": {
    "name": "ipython",
    "version": 3
   },
   "file_extension": ".py",
   "mimetype": "text/x-python",
   "name": "python",
   "nbconvert_exporter": "python",
   "pygments_lexer": "ipython3",
   "version": "3.9.12"
  }
 },
 "nbformat": 4,
 "nbformat_minor": 5
}
