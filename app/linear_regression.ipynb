{
 "cells": [
  {
   "cell_type": "code",
   "execution_count": 1,
   "id": "29bf036a",
   "metadata": {},
   "outputs": [],
   "source": [
    "import numpy as np\n",
    "from sklearn.linear_model import LinearRegression"
   ]
  },
  {
   "cell_type": "code",
   "execution_count": 86,
   "id": "fb6eb7ff",
   "metadata": {},
   "outputs": [],
   "source": [
    "#Data\n",
    "\n",
    "#Train data\n",
    "#specimens 4, 6, 7, 13, 17, 21 at spetrum 908.1\n",
    "trainData = np.array([0.06710815, 0.06052136, 0.12795535, 0.35012695, 0.46378904, 0.34955011]).reshape((-1, 1))\n",
    "trainResponses = np.array([1, 1, 1, 0, 0, 0]) #1 = counterfeith, 0 = authentic\n",
    "\n",
    "#Test data\n",
    "#specimens 35, 37, 38, 39, 34 at spetrum 908.1\n",
    "testData = np.array([0.14709364, 0.35198722, 0.32029153, 0.38181356, 0.00390504]).reshape((-1, 1))\n",
    "testResponses = np.array([1, 0, 0, 0, 1]) #1 = counterfeith, 0 = authentic\n",
    "IDSpecimens = np.array([35, 37, 38, 39, 34]) "
   ]
  },
  {
   "cell_type": "code",
   "execution_count": 87,
   "id": "e574dfd8",
   "metadata": {},
   "outputs": [
    {
     "data": {
      "text/plain": [
       "array([[0.06710815],\n",
       "       [0.06052136],\n",
       "       [0.12795535],\n",
       "       [0.35012695],\n",
       "       [0.46378904],\n",
       "       [0.34955011]])"
      ]
     },
     "execution_count": 87,
     "metadata": {},
     "output_type": "execute_result"
    }
   ],
   "source": [
    "x"
   ]
  },
  {
   "cell_type": "code",
   "execution_count": 88,
   "id": "bef67958",
   "metadata": {},
   "outputs": [
    {
     "data": {
      "text/plain": [
       "array([1, 1, 1, 0, 0, 0])"
      ]
     },
     "execution_count": 88,
     "metadata": {},
     "output_type": "execute_result"
    }
   ],
   "source": [
    "y"
   ]
  },
  {
   "cell_type": "code",
   "execution_count": 89,
   "id": "7e5a5872",
   "metadata": {},
   "outputs": [],
   "source": [
    "model = LinearRegression()"
   ]
  },
  {
   "cell_type": "code",
   "execution_count": 90,
   "id": "996d9c27",
   "metadata": {},
   "outputs": [
    {
     "data": {
      "text/plain": [
       "LinearRegression()"
      ]
     },
     "execution_count": 90,
     "metadata": {},
     "output_type": "execute_result"
    }
   ],
   "source": [
    "model.fit(trainData, trainResponses)"
   ]
  },
  {
   "cell_type": "code",
   "execution_count": 91,
   "id": "d5310b8e",
   "metadata": {},
   "outputs": [
    {
     "name": "stdout",
     "output_type": "stream",
     "text": [
      "coefficient of determination: 0.9232436647161987\n"
     ]
    }
   ],
   "source": [
    "r_sq = model.score(trainData, trainResponses)\n",
    "print(f\"coefficient of determination: {r_sq}\")"
   ]
  },
  {
   "cell_type": "code",
   "execution_count": 92,
   "id": "da275195",
   "metadata": {},
   "outputs": [
    {
     "name": "stdout",
     "output_type": "stream",
     "text": [
      "intercept: 1.2215314905776882\n",
      "slope: [-3.05076355]\n"
     ]
    }
   ],
   "source": [
    "print(f\"intercept: {model.intercept_}\")\n",
    "print(f\"slope: {model.coef_}\")"
   ]
  },
  {
   "cell_type": "code",
   "execution_count": 93,
   "id": "bbd4d1dc",
   "metadata": {},
   "outputs": [
    {
     "name": "stdout",
     "output_type": "stream",
     "text": [
      "intercept: [1.22153149]\n",
      "slope: [[-3.05076355]]\n"
     ]
    }
   ],
   "source": [
    "new_model = LinearRegression().fit(trainData, trainResponses.reshape((-1, 1)))\n",
    "print(f\"intercept: {new_model.intercept_}\")\n",
    "\n",
    "\n",
    "print(f\"slope: {new_model.coef_}\")"
   ]
  },
  {
   "cell_type": "code",
   "execution_count": 94,
   "id": "c2ee0b50",
   "metadata": {},
   "outputs": [
    {
     "name": "stdout",
     "output_type": "stream",
     "text": [
      "predicted response:\n",
      "[ 1.01680039  1.03689513  0.83116997  0.15337695 -0.19337921  0.15513676]\n"
     ]
    }
   ],
   "source": [
    "# Prediction with train data\n",
    "y_pred = model.predict(trainData)\n",
    "print(f\"predicted response:\\n{y_pred}\")"
   ]
  },
  {
   "cell_type": "code",
   "execution_count": 95,
   "id": "660320a5",
   "metadata": {},
   "outputs": [
    {
     "name": "stdout",
     "output_type": "stream",
     "text": [
      "predicted response:\n",
      "[0.77278358 0.14770171 0.24439777 0.0567086  1.20961814]\n"
     ]
    }
   ],
   "source": [
    "# Prediction with test data\n",
    "y_pred = model.predict(testData)\n",
    "print(f\"predicted response:\\n{y_pred}\")"
   ]
  },
  {
   "cell_type": "code",
   "execution_count": 98,
   "id": "70cac8dc",
   "metadata": {},
   "outputs": [
    {
     "name": "stdout",
     "output_type": "stream",
     "text": [
      "specimen 35 is an authentic\n",
      "specimen 37 is a Counterfeith\n",
      "specimen 38 is a Counterfeith\n",
      "specimen 39 is a Counterfeith\n",
      "specimen 34 is an authentic\n"
     ]
    }
   ],
   "source": [
    "i = j = 0\n",
    "for p in y_pred:\n",
    "    if p < 0.5 :\n",
    "        if testResponses[i] < 0.5 : \n",
    "            j += 1\n",
    "        print(\"specimen \" + str(IDSpecimens[i]) + \" is a Counterfeith\")\n",
    "    else :\n",
    "        if testResponses[i] >= 0.5 : \n",
    "            j += 1\n",
    "        print(\"specimen \" + str(IDSpecimens[i]) + \" is an authentic\")\n",
    "    i += 1"
   ]
  },
  {
   "cell_type": "code",
   "execution_count": 101,
   "id": "9964854a",
   "metadata": {},
   "outputs": [
    {
     "name": "stdout",
     "output_type": "stream",
     "text": [
      "test accuracy : 1.0\n"
     ]
    }
   ],
   "source": [
    "print(\"test accuracy : \" + str(j/len(responses)))\n"
   ]
  },
  {
   "cell_type": "code",
   "execution_count": null,
   "id": "045ff23b",
   "metadata": {},
   "outputs": [],
   "source": []
  }
 ],
 "metadata": {
  "kernelspec": {
   "display_name": "Python 3 (ipykernel)",
   "language": "python",
   "name": "python3"
  },
  "language_info": {
   "codemirror_mode": {
    "name": "ipython",
    "version": 3
   },
   "file_extension": ".py",
   "mimetype": "text/x-python",
   "name": "python",
   "nbconvert_exporter": "python",
   "pygments_lexer": "ipython3",
   "version": "3.9.12"
  }
 },
 "nbformat": 4,
 "nbformat_minor": 5
}
