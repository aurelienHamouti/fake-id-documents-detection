{
 "cells": [
  {
   "cell_type": "code",
   "execution_count": 36,
   "id": "0d211f2c",
   "metadata": {},
   "outputs": [],
   "source": [
    "import matplotlib.pyplot as plt\n",
    "from torchvision import datasets, transforms\n",
    "from torch.utils.data import DataLoader\n",
    "import torch.nn as nn\n",
    "import torch.nn.functional as F\n",
    "import torch.optim as optim\n",
    "import torch"
   ]
  },
  {
   "cell_type": "code",
   "execution_count": 86,
   "id": "c48f64b8",
   "metadata": {},
   "outputs": [],
   "source": [
    "def get_data():\n",
    "    data_dir = 'data/id-documents-zone-1/'\n",
    "\n",
    "    transform = transforms.Compose([\n",
    "                    transforms.Resize(128),\n",
    "                    transforms.ToTensor()])\n",
    "\n",
    "    train_set = datasets.ImageFolder(data_dir + '/training_set', transform=transform)\n",
    "    test_set = datasets.ImageFolder(data_dir + '/test_set', transform=transform)\n",
    "\n",
    "    train = DataLoader(train_set, batch_size=32, shuffle=True)\n",
    "    test = DataLoader(test_set, batch_size=32, shuffle=True)\n",
    "    \n",
    "    return train, test\n"
   ]
  },
  {
   "cell_type": "code",
   "execution_count": 87,
   "id": "9cc0234f",
   "metadata": {},
   "outputs": [
    {
     "name": "stdout",
     "output_type": "stream",
     "text": [
      "torch.Size([3, 128, 294])\n",
      "torch.Size([3, 128, 294])\n",
      "torch.Size([3, 128, 294])\n",
      "torch.Size([3, 128, 294])\n",
      "torch.Size([3, 128, 294])\n"
     ]
    },
    {
     "data": {
      "image/png": "[encoded data removed]",
      "text/plain": [
       "<Figure size 720x288 with 5 Axes>"
      ]
     },
     "metadata": {
      "needs_background": "light"
     },
     "output_type": "display_data"
    },
    {
     "name": "stdout",
     "output_type": "stream",
     "text": [
      "images shape on batch size = torch.Size([11, 3, 128, 294])\n",
      "labels shape on batch size = torch.Size([11])\n"
     ]
    }
   ],
   "source": [
    "def train_imshow():\n",
    "    classes = ('authentics', 'counterfeits')\n",
    "    dataiter = iter(train)\n",
    "    images, labels = dataiter.next()\n",
    "    fig, axes = plt.subplots(figsize=(10, 4), ncols=5)\n",
    "    for i in range(5):\n",
    "        ax = axes[i]\n",
    "        ax.imshow(images[i].permute(1, 2, 0))  # permute?\n",
    "        ax.title.set_text(' '.join('%5s' % classes[labels[i]]))\n",
    "        print(images[i].shape)  # Not needed\n",
    "    plt.show()\n",
    "    print('images shape on batch size = {}'.format(images.size()))\n",
    "    print('labels shape on batch size = {}'.format(labels.size()))\n",
    "\n",
    "\n",
    "train, test = get_data()\n",
    "\n",
    "\n",
    "train_imshow()"
   ]
  },
  {
   "cell_type": "code",
   "execution_count": 114,
   "id": "3fca2cd6",
   "metadata": {},
   "outputs": [],
   "source": [
    "class Net(nn.Module):\n",
    "    def __init__(self):\n",
    "        super(Net, self).__init__()\n",
    "        self.conv1 = nn.Conv2d(3, 6, 5)\n",
    "        self.pool = nn.MaxPool2d(8, 8)\n",
    "        self.conv2 = nn.Conv2d(6, 16, 5)\n",
    "        self.fc1 = nn.Linear(64, 100)\n",
    "        self.fc2 = nn.Linear(100, 50)\n",
    "        self.fc3 = nn.Linear(50, 2)\n",
    "\n",
    "    def forward(self, x):\n",
    "        x = self.pool(F.relu(self.conv1(x)))\n",
    "        x = self.pool(F.relu(self.conv2(x)))\n",
    "        \n",
    "        x = x.view(-1, 64)\n",
    "        #print(x.shape)\n",
    "        x = F.relu(self.fc1(x))\n",
    "        x = F.relu(self.fc2(x))\n",
    "        x = self.fc3(x)\n",
    "        return x\n",
    "\n",
    "\n",
    "net = Net()\n",
    "\n",
    "criterion = nn.CrossEntropyLoss()\n",
    "optimizer = optim.SGD(net.parameters(), lr=0.01, momentum=0.9)\n",
    "\n"
   ]
  },
  {
   "cell_type": "code",
   "execution_count": 115,
   "id": "6e5ee082",
   "metadata": {},
   "outputs": [
    {
     "data": {
      "image/png": "[encoded data removed]",
      "text/plain": [
       "<Figure size 432x288 with 1 Axes>"
      ]
     },
     "metadata": {
      "needs_background": "light"
     },
     "output_type": "display_data"
    },
    {
     "name": "stdout",
     "output_type": "stream",
     "text": [
      "Finished Training\n"
     ]
    }
   ],
   "source": [
    "def train_net(n_epoch):\n",
    "    losses = []\n",
    "    for epoch in range(n_epoch):  # loop over the dataset multiple times\n",
    "        running_loss = 0.0\n",
    "        for i, data in enumerate(train, 0):\n",
    "            # get the inputs; data is a list of [inputs, labels]\n",
    "            inputs, labels = data\n",
    "            \n",
    "            \n",
    "\n",
    "            # zero the parameter gradients\n",
    "            optimizer.zero_grad()\n",
    "\n",
    "            # forward + backward + optimize\n",
    "            outputs = net(inputs)\n",
    "            loss = criterion(outputs, labels)\n",
    "            loss.backward()\n",
    "            optimizer.step()\n",
    "\n",
    "            # print statistics\n",
    "            losses.append(loss)\n",
    "            running_loss += loss.item()\n",
    "            if i % 100 == 99:  # print every 2000 mini-batches\n",
    "                print('[%d, %5d] loss: %.10f' %\n",
    "                      (epoch + 1, i + 1, running_loss / 2000))\n",
    "                running_loss = 0.0\n",
    "    losses= [loss.detach().numpy() for loss in losses]\n",
    "    plt.plot(losses, label='Training loss')\n",
    "    plt.show()\n",
    "    print('Finished Training')\n",
    "\n",
    "train_net(10)"
   ]
  },
  {
   "cell_type": "code",
   "execution_count": 119,
   "id": "c4d73302",
   "metadata": {},
   "outputs": [
    {
     "name": "stdout",
     "output_type": "stream",
     "text": [
      "tensor([0, 0, 0, 0, 0, 0, 0]) tensor([1, 1, 0, 0, 0, 0, 1])\n",
      "Accuracy of the network on the 1 test images: 57 %\n"
     ]
    }
   ],
   "source": [
    "correct = 0\n",
    "total = 0\n",
    "with torch.no_grad():\n",
    "    for data in test:\n",
    "        images, labels = data\n",
    "        outputs = net(images)\n",
    "        _, predicted = torch.max(outputs.data, 1)\n",
    "        total += labels.size(0)\n",
    "        correct += (predicted == labels).sum().item()\n",
    "        print(str(predicted) + ' ' + str(labels))\n",
    "\n",
    "print('Accuracy of the network on the %d test images: %d %%' % (len(test),\n",
    "    100 * correct / total))"
   ]
  }
 ],
 "metadata": {
  "kernelspec": {
   "display_name": "Python 3 (ipykernel)",
   "language": "python",
   "name": "python3"
  },
  "language_info": {
   "codemirror_mode": {
    "name": "ipython",
    "version": 3
   },
   "file_extension": ".py",
   "mimetype": "text/x-python",
   "name": "python",
   "nbconvert_exporter": "python",
   "pygments_lexer": "ipython3",
   "version": "3.9.12"
  }
 },
 "nbformat": 4,
 "nbformat_minor": 5
}
