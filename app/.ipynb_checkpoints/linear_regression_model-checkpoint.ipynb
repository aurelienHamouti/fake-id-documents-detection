{
 "cells": [
  {
   "cell_type": "code",
   "execution_count": 104,
   "id": "4180d346",
   "metadata": {},
   "outputs": [],
   "source": [
    "import numpy as np\n",
    "from sklearn.linear_model import LinearRegression"
   ]
  },
  {
   "cell_type": "code",
   "execution_count": 105,
   "id": "70e9ce3e",
   "metadata": {},
   "outputs": [],
   "source": [
    "#Data\n",
    "\n",
    "#Train data\n",
    "#specimens 4, 6, 7, 13, 17, 21 at spetrum 908.1\n",
    "trainData = np.array([0.06710815, 0.06052136, 0.12795535, 0.35012695, 0.46378904, 0.34955011]).reshape((-1, 1))\n",
    "trainResponses = np.array([1, 1, 1, 0, 0, 0]) #1 = counterfeit, 0 = authentic\n",
    "\n",
    "#Test data\n",
    "#specimens 35, 37, 38, 39, 34 at spetrum 908.1\n",
    "testData = np.array([0.14709364, 0.35198722, 0.32029153, 0.38181356, 0.00390504]).reshape((-1, 1))\n",
    "testResponses = np.array([1, 0, 0, 0, 1]) #1 = counterfeit, 0 = authentic\n",
    "IDSpecimens = np.array([35, 37, 38, 39, 34]) "
   ]
  },
  {
   "cell_type": "code",
   "execution_count": 118,
   "id": "163f277b",
   "metadata": {},
   "outputs": [
    {
     "data": {
      "text/plain": [
       "array([[0.06710815],\n",
       "       [0.06052136],\n",
       "       [0.12795535],\n",
       "       [0.35012695],\n",
       "       [0.46378904],\n",
       "       [0.34955011]])"
      ]
     },
     "execution_count": 118,
     "metadata": {},
     "output_type": "execute_result"
    }
   ],
   "source": [
    "trainData"
   ]
  },
  {
   "cell_type": "code",
   "execution_count": 117,
   "id": "ad17d27c",
   "metadata": {},
   "outputs": [
    {
     "data": {
      "text/plain": [
       "array([1, 1, 1, 0, 0, 0])"
      ]
     },
     "execution_count": 117,
     "metadata": {},
     "output_type": "execute_result"
    }
   ],
   "source": [
    "trainResponses"
   ]
  },
  {
   "cell_type": "code",
   "execution_count": 108,
   "id": "90a98f1b",
   "metadata": {},
   "outputs": [],
   "source": [
    "model = LinearRegression()"
   ]
  },
  {
   "cell_type": "code",
   "execution_count": 109,
   "id": "d9530635",
   "metadata": {},
   "outputs": [
    {
     "data": {
      "text/plain": [
       "LinearRegression()"
      ]
     },
     "execution_count": 109,
     "metadata": {},
     "output_type": "execute_result"
    }
   ],
   "source": [
    "model.fit(trainData, trainResponses)"
   ]
  },
  {
   "cell_type": "code",
   "execution_count": 110,
   "id": "58933b80",
   "metadata": {},
   "outputs": [
    {
     "name": "stdout",
     "output_type": "stream",
     "text": [
      "coefficient of determination: 0.9232436647161987\n"
     ]
    }
   ],
   "source": [
    "r_sq = model.score(trainData, trainResponses)\n",
    "print(f\"coefficient of determination: {r_sq}\")"
   ]
  },
  {
   "cell_type": "code",
   "execution_count": 111,
   "id": "c0ba9837",
   "metadata": {},
   "outputs": [
    {
     "name": "stdout",
     "output_type": "stream",
     "text": [
      "intercept: 1.2215314905776882\n",
      "slope: [-3.05076355]\n"
     ]
    }
   ],
   "source": [
    "print(f\"intercept: {model.intercept_}\")\n",
    "print(f\"slope: {model.coef_}\")"
   ]
  },
  {
   "cell_type": "code",
   "execution_count": 112,
   "id": "659b9422",
   "metadata": {},
   "outputs": [
    {
     "name": "stdout",
     "output_type": "stream",
     "text": [
      "intercept: [1.22153149]\n",
      "slope: [[-3.05076355]]\n"
     ]
    }
   ],
   "source": [
    "new_model = LinearRegression().fit(trainData, trainResponses.reshape((-1, 1)))\n",
    "print(f\"intercept: {new_model.intercept_}\")\n",
    "\n",
    "\n",
    "print(f\"slope: {new_model.coef_}\")"
   ]
  },
  {
   "cell_type": "code",
   "execution_count": 113,
   "id": "329fbb31",
   "metadata": {},
   "outputs": [
    {
     "name": "stdout",
     "output_type": "stream",
     "text": [
      "predicted response:\n",
      "[ 1.01680039  1.03689513  0.83116997  0.15337695 -0.19337921  0.15513676]\n"
     ]
    }
   ],
   "source": [
    "# Prediction with train data\n",
    "y_pred = model.predict(trainData)\n",
    "print(f\"predicted response:\\n{y_pred}\")"
   ]
  },
  {
   "cell_type": "code",
   "execution_count": 119,
   "id": "75a16968",
   "metadata": {},
   "outputs": [
    {
     "name": "stdout",
     "output_type": "stream",
     "text": [
      "predicted response:\n",
      "[0.77278358 0.14770171 0.24439777 0.0567086  1.20961814]\n"
     ]
    }
   ],
   "source": [
    "# Prediction with test data\n",
    "y_predictions = model.predict(testData)\n",
    "print(f\"predicted response:\\n{y_pred}\")"
   ]
  },
  {
   "cell_type": "code",
   "execution_count": 120,
   "id": "1e68541a",
   "metadata": {},
   "outputs": [
    {
     "name": "stdout",
     "output_type": "stream",
     "text": [
      "specimen 35 is an authentic\n",
      "specimen 37 is a counterfeit\n",
      "specimen 38 is a counterfeit\n",
      "specimen 39 is a counterfeit\n",
      "specimen 34 is an authentic\n"
     ]
    }
   ],
   "source": [
    "i = j = 0\n",
    "for p in y_predictions:\n",
    "    if p < 0.5 :\n",
    "        if testResponses[i] < 0.5 : \n",
    "            j += 1\n",
    "        print(\"specimen \" + str(IDSpecimens[i]) + \" is a counterfeit\")\n",
    "    else :\n",
    "        if testResponses[i] >= 0.5 : \n",
    "            j += 1\n",
    "        print(\"specimen \" + str(IDSpecimens[i]) + \" is an authentic\")\n",
    "    i += 1"
   ]
  },
  {
   "cell_type": "code",
   "execution_count": 121,
   "id": "86b5d187",
   "metadata": {},
   "outputs": [
    {
     "name": "stdout",
     "output_type": "stream",
     "text": [
      "test accuracy : 1.0\n"
     ]
    }
   ],
   "source": [
    "print(\"test accuracy : \" + str(j/len(responses)))\n"
   ]
  },
  {
   "cell_type": "code",
   "execution_count": null,
   "id": "a510f452",
   "metadata": {},
   "outputs": [],
   "source": []
  }
 ],
 "metadata": {
  "kernelspec": {
   "display_name": "Python 3 (ipykernel)",
   "language": "python",
   "name": "python3"
  },
  "language_info": {
   "codemirror_mode": {
    "name": "ipython",
    "version": 3
   },
   "file_extension": ".py",
   "mimetype": "text/x-python",
   "name": "python",
   "nbconvert_exporter": "python",
   "pygments_lexer": "ipython3",
   "version": "3.9.12"
  }
 },
 "nbformat": 4,
 "nbformat_minor": 5
}
