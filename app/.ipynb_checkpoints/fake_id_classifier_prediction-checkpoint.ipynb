{
 "cells": [
  {
   "cell_type": "code",
   "execution_count": 18,
   "id": "f7c485cb",
   "metadata": {},
   "outputs": [],
   "source": [
    "import torch, pathlib, glob, cv2, os\n",
    "import torch.nn as nn\n",
    "from torchvision.transforms import transforms\n",
    "import numpy as np\n",
    "from torch.autograd import Variable\n",
    "from torchvision.models import squeezenet1_1\n",
    "import torch.functional as F\n",
    "from io import open\n",
    "from PIL import Image"
   ]
  },
  {
   "cell_type": "code",
   "execution_count": 19,
   "id": "6255a591",
   "metadata": {},
   "outputs": [],
   "source": [
    "trainingPath='data/id-fr-documents-zone-4/training_set'\n",
    "predictionPath='data/id-fr-documents-zone-4/prediction_set'"
   ]
  },
  {
   "cell_type": "code",
   "execution_count": 20,
   "id": "334ff4b1",
   "metadata": {},
   "outputs": [
    {
     "name": "stdout",
     "output_type": "stream",
     "text": [
      "['authentics', 'counterfeits']\n"
     ]
    }
   ],
   "source": [
    "# categories (classes) extraction\n",
    "root=pathlib.Path(trainingPath)\n",
    "classes=sorted([j.name.split('/')[-1] for j in root.iterdir()])\n",
    "print(classes)"
   ]
  },
  {
   "cell_type": "code",
   "execution_count": 21,
   "id": "b7f14269",
   "metadata": {},
   "outputs": [],
   "source": [
    "#Convolutional neuronal network (CNN) definition \n",
    "\n",
    "class ConvNet(nn.Module):\n",
    "    def __init__(self,num_classes=6):\n",
    "        super(ConvNet,self).__init__()\n",
    "        \n",
    "        #initial input shape= (256,3,150,150)\n",
    "        self.conv1=nn.Conv2d(in_channels=3,out_channels=12,kernel_size=3,stride=1,padding=1)\n",
    "        #new shape= (256,12,150,150)\n",
    "        self.bn1=nn.BatchNorm2d(num_features=12)\n",
    "        self.relu1=nn.ReLU()     \n",
    "        self.pool=nn.MaxPool2d(kernel_size=2)\n",
    "        #Reduce the image size be factor 2\n",
    "        #new shape= (256,12,75,75)\n",
    "        \n",
    "        self.conv2=nn.Conv2d(in_channels=12,out_channels=20,kernel_size=3,stride=1,padding=1)\n",
    "        #new shape= (256,20,75,75)\n",
    "        self.relu2=nn.ReLU()\n",
    "        self.conv3=nn.Conv2d(in_channels=20,out_channels=32,kernel_size=3,stride=1,padding=1)\n",
    "        #new shape= (256,32,75,75)\n",
    "        self.bn3=nn.BatchNorm2d(num_features=32)\n",
    "        self.relu3=nn.ReLU()\n",
    "        self.fc=nn.Linear(in_features=250 * 250 * 32,out_features=num_classes)\n",
    "        \n",
    "    def forward(self,input):\n",
    "        output=self.conv1(input)\n",
    "        output=self.bn1(output)\n",
    "        output=self.relu1(output)  \n",
    "        output=self.pool(output)\n",
    "            \n",
    "        output=self.conv2(output)\n",
    "        output=self.relu2(output)\n",
    "            \n",
    "        output=self.conv3(output)\n",
    "        output=self.bn3(output)\n",
    "        output=self.relu3(output) \n",
    "            \n",
    "        #Output shape like the last input shape (256,32,75,75)     \n",
    "        output=output.view(-1,32*250*250)\n",
    "                \n",
    "        output=self.fc(output) \n",
    "        return output"
   ]
  },
  {
   "cell_type": "code",
   "execution_count": 22,
   "id": "47f7f438",
   "metadata": {},
   "outputs": [
    {
     "data": {
      "text/plain": [
       "ConvNet(\n",
       "  (conv1): Conv2d(3, 12, kernel_size=(3, 3), stride=(1, 1), padding=(1, 1))\n",
       "  (bn1): BatchNorm2d(12, eps=1e-05, momentum=0.1, affine=True, track_running_stats=True)\n",
       "  (relu1): ReLU()\n",
       "  (pool): MaxPool2d(kernel_size=2, stride=2, padding=0, dilation=1, ceil_mode=False)\n",
       "  (conv2): Conv2d(12, 20, kernel_size=(3, 3), stride=(1, 1), padding=(1, 1))\n",
       "  (relu2): ReLU()\n",
       "  (conv3): Conv2d(20, 32, kernel_size=(3, 3), stride=(1, 1), padding=(1, 1))\n",
       "  (bn3): BatchNorm2d(32, eps=1e-05, momentum=0.1, affine=True, track_running_stats=True)\n",
       "  (relu3): ReLU()\n",
       "  (fc): Linear(in_features=2000000, out_features=6, bias=True)\n",
       ")"
      ]
     },
     "execution_count": 22,
     "metadata": {},
     "output_type": "execute_result"
    }
   ],
   "source": [
    "checkpoint=torch.load('fake_ID_FR_zone_4_classifier.model')\n",
    "model=ConvNet(num_classes=6)\n",
    "model.load_state_dict(checkpoint)\n",
    "model.eval()"
   ]
  },
  {
   "cell_type": "code",
   "execution_count": 23,
   "id": "c6523c09",
   "metadata": {},
   "outputs": [],
   "source": [
    "#Transforms input data for processing\n",
    "transformer=transforms.Compose([\n",
    "    transforms.Resize((500,500)),\n",
    "    transforms.ToTensor(),  #0-255 to 0-1, numpy to tensors\n",
    "    transforms.Normalize([0.5,0.5,0.5], # 0-1 to [-1,1] , formula (x-mean)/std\n",
    "                        [0.5,0.5,0.5])\n",
    "])"
   ]
  },
  {
   "cell_type": "code",
   "execution_count": 32,
   "id": "eece5f82",
   "metadata": {},
   "outputs": [],
   "source": [
    "#prediction \n",
    "\n",
    "def prediction(imgPath,transformer):\n",
    "        \n",
    "    image=Image.open(imgPath).convert('RGB')\n",
    "    imageTensor=transformer(image).float()\n",
    "    imageTensor=imageTensor.unsqueeze_(0)\n",
    "    \n",
    "    if torch.cuda.is_available():\n",
    "        imageTensor.cuda()\n",
    "        \n",
    "    input=Variable(imageTensor)\n",
    "    output=model(input)\n",
    "    index=output.data.numpy().argmax()\n",
    "    pred=classes[index]\n",
    "    \n",
    "    return pred"
   ]
  },
  {
   "cell_type": "code",
   "execution_count": 33,
   "id": "9e526303",
   "metadata": {},
   "outputs": [
    {
     "name": "stdout",
     "output_type": "stream",
     "text": [
      "['Carte 2 - Authentique délivrée par consulat - Carte ID FR - Zone 4 - 2ème mesure (bureau bois).png', \"Carte 3 - Authentique - Carte ID FR - Delivre 01.2017 - Prefecture du Val d'oise (95) - Zone 4.png\", 'Carte 4 - Authentique - Carte ID FR - Delivre 09.2009 - Prefecture de Thonon les bains (74) - Zone 4.png', 'Carte 5 - Authentique - Carte ID FR - Delivre 05.2019 - Prefecture de la Haute Savoie (74) - Zone 4.png', \"Carte 6 - Authentique - Carte ID FR - Delivre 11.2016 - Prefecture de l'Ain (01) - Zone 4.png\", 'Carte 7 - Authentique - Carte ID FR - Delivre 03.2019- Prefecture de la Haute Savoie (74) - Zone 4.png', 'Carte 8 - Authentique - Carte ID FR - Delivre 05.2006- Sous Prefecture de Lunéville (54)  - Zone 1 (support plastique 4).png', 'Cas BAA 1942511 - Contrefaçon (Faux intégrale) - Carte ID FR - Zone 4.png', 'Cas BEL 10-27794 - Document utilisé abusivement - Carte ID FR - Zone 4.png', 'Cas FEM 11-28370 - Document utilisé abusivement - Carte ID FR - Zone 4.png', 'Cas FEM 1129565 - Contrefaçon (Faux intégral) - Carte ID FR - Zone 4.png', 'Cas FEM 15-36544 - Contrefaçon (Faux intégral) - Carte ID FR - Zone 4.png', 'Cas FEM 2042614 - Contrefaçon (Faux intégral) - Carte ID FR - Zone 4 (Faux flagrant).png', 'Cas MEE 16-37515 - Contrefaçon (Faux intégral) - Carte ID FR - Zone 4.png', 'Cas MEE 19-41417 - Contrefaçon (Faux intégral) - Carte ID FR - Zone 4.png', 'Cas PAJ 15-36962 - Document obtenu frauduleusement - Carte ID FR - Zone 4 (2ème mesure).png', 'Cas SNA 10-27859 - Contrefaçon - Carte ID FR - Zone 4.png', 'Cas SPA 2008-23363 - Contrefaçon - Carte ID FR - Zone 4.png']\n"
     ]
    }
   ],
   "source": [
    "imagesPath=os.listdir()\n",
    "\n",
    "\n",
    "a = [name for name in os.listdir(predictionPath) if name.endswith(\".png\")]\n",
    "\n",
    "imagesPath = a \n",
    "print(imagesPath)"
   ]
  },
  {
   "cell_type": "code",
   "execution_count": 36,
   "id": "126664be",
   "metadata": {},
   "outputs": [],
   "source": [
    "predictionResults={}\n",
    "\n",
    "for i in imagesPath:\n",
    "    i = os.path.join(predictionPath, i)\n",
    "    predictionResults[i[i.rfind('/')+1:]]=prediction(i,transformer)"
   ]
  },
  {
   "cell_type": "code",
   "execution_count": 37,
   "id": "41ff4db1",
   "metadata": {},
   "outputs": [
    {
     "data": {
      "text/plain": [
       "{'prediction_set\\\\Carte 2 - Authentique délivrée par consulat - Carte ID FR - Zone 4 - 2ème mesure (bureau bois).png': 'authentics',\n",
       " \"prediction_set\\\\Carte 3 - Authentique - Carte ID FR - Delivre 01.2017 - Prefecture du Val d'oise (95) - Zone 4.png\": 'authentics',\n",
       " 'prediction_set\\\\Carte 4 - Authentique - Carte ID FR - Delivre 09.2009 - Prefecture de Thonon les bains (74) - Zone 4.png': 'authentics',\n",
       " 'prediction_set\\\\Carte 5 - Authentique - Carte ID FR - Delivre 05.2019 - Prefecture de la Haute Savoie (74) - Zone 4.png': 'authentics',\n",
       " \"prediction_set\\\\Carte 6 - Authentique - Carte ID FR - Delivre 11.2016 - Prefecture de l'Ain (01) - Zone 4.png\": 'authentics',\n",
       " 'prediction_set\\\\Carte 7 - Authentique - Carte ID FR - Delivre 03.2019- Prefecture de la Haute Savoie (74) - Zone 4.png': 'authentics',\n",
       " 'prediction_set\\\\Carte 8 - Authentique - Carte ID FR - Delivre 05.2006- Sous Prefecture de Lunéville (54)  - Zone 1 (support plastique 4).png': 'authentics',\n",
       " 'prediction_set\\\\Cas BAA 1942511 - Contrefaçon (Faux intégrale) - Carte ID FR - Zone 4.png': 'counterfeits',\n",
       " 'prediction_set\\\\Cas BEL 10-27794 - Document utilisé abusivement - Carte ID FR - Zone 4.png': 'authentics',\n",
       " 'prediction_set\\\\Cas FEM 11-28370 - Document utilisé abusivement - Carte ID FR - Zone 4.png': 'authentics',\n",
       " 'prediction_set\\\\Cas FEM 1129565 - Contrefaçon (Faux intégral) - Carte ID FR - Zone 4.png': 'counterfeits',\n",
       " 'prediction_set\\\\Cas FEM 15-36544 - Contrefaçon (Faux intégral) - Carte ID FR - Zone 4.png': 'counterfeits',\n",
       " 'prediction_set\\\\Cas FEM 2042614 - Contrefaçon (Faux intégral) - Carte ID FR - Zone 4 (Faux flagrant).png': 'counterfeits',\n",
       " 'prediction_set\\\\Cas MEE 16-37515 - Contrefaçon (Faux intégral) - Carte ID FR - Zone 4.png': 'counterfeits',\n",
       " 'prediction_set\\\\Cas MEE 19-41417 - Contrefaçon (Faux intégral) - Carte ID FR - Zone 4.png': 'authentics',\n",
       " 'prediction_set\\\\Cas PAJ 15-36962 - Document obtenu frauduleusement - Carte ID FR - Zone 4 (2ème mesure).png': 'authentics',\n",
       " 'prediction_set\\\\Cas SNA 10-27859 - Contrefaçon - Carte ID FR - Zone 4.png': 'authentics',\n",
       " 'prediction_set\\\\Cas SPA 2008-23363 - Contrefaçon - Carte ID FR - Zone 4.png': 'counterfeits'}"
      ]
     },
     "execution_count": 37,
     "metadata": {},
     "output_type": "execute_result"
    }
   ],
   "source": [
    "predictionResults"
   ]
  },
  {
   "cell_type": "code",
   "execution_count": null,
   "id": "3750b81b",
   "metadata": {},
   "outputs": [],
   "source": []
  }
 ],
 "metadata": {
  "kernelspec": {
   "display_name": "Python 3 (ipykernel)",
   "language": "python",
   "name": "python3"
  },
  "language_info": {
   "codemirror_mode": {
    "name": "ipython",
    "version": 3
   },
   "file_extension": ".py",
   "mimetype": "text/x-python",
   "name": "python",
   "nbconvert_exporter": "python",
   "pygments_lexer": "ipython3",
   "version": "3.9.12"
  }
 },
 "nbformat": 4,
 "nbformat_minor": 5
}
